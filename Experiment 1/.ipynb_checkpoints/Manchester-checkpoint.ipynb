{
 "cells": [
  {
   "cell_type": "markdown",
   "id": "4e1109c4-1138-4449-b272-b37e20fdeef5",
   "metadata": {},
   "source": [
    "<h2>Manchester Encoding & Decoding Scheme</h2>"
   ]
  },
  {
   "cell_type": "code",
   "execution_count": null,
   "id": "283e2510-1b99-40cd-87ba-8c457f112ce5",
   "metadata": {},
   "outputs": [],
   "source": []
  }
 ],
 "metadata": {
  "kernelspec": {
   "display_name": "Python 3 (ipykernel)",
   "language": "python",
   "name": "python3"
  },
  "language_info": {
   "codemirror_mode": {
    "name": "ipython",
    "version": 3
   },
   "file_extension": ".py",
   "mimetype": "text/x-python",
   "name": "python",
   "nbconvert_exporter": "python",
   "pygments_lexer": "ipython3",
   "version": "3.12.9"
  }
 },
 "nbformat": 4,
 "nbformat_minor": 5
}
